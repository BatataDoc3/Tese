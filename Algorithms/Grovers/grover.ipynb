{
 "cells": [
  {
   "cell_type": "markdown",
   "metadata": {},
   "source": [
    "# Grover's Algorithm - Normal without Walkers"
   ]
  },
  {
   "cell_type": "markdown",
   "metadata": {},
   "source": [
    "First step is to install qiskit :)"
   ]
  },
  {
   "cell_type": "code",
   "execution_count": 4,
   "metadata": {},
   "outputs": [
    {
     "name": "stderr",
     "output_type": "stream",
     "text": [
      "\n",
      "[notice] A new release of pip is available: 23.1.2 -> 24.2\n",
      "[notice] To update, run: python.exe -m pip install --upgrade pip\n"
     ]
    },
    {
     "name": "stdout",
     "output_type": "stream",
     "text": [
      "Requirement already satisfied: qiskit in c:\\python311\\lib\\site-packages (1.2.0)\n",
      "Requirement already satisfied: rustworkx>=0.15.0 in c:\\python311\\lib\\site-packages (from qiskit) (0.15.1)\n",
      "Requirement already satisfied: numpy<3,>=1.17 in c:\\python311\\lib\\site-packages (from qiskit) (2.1.0)\n",
      "Requirement already satisfied: scipy>=1.5 in c:\\python311\\lib\\site-packages (from qiskit) (1.14.1)\n",
      "Requirement already satisfied: sympy>=1.3 in c:\\python311\\lib\\site-packages (from qiskit) (1.13.2)\n",
      "Requirement already satisfied: dill>=0.3 in c:\\python311\\lib\\site-packages (from qiskit) (0.3.8)\n",
      "Requirement already satisfied: python-dateutil>=2.8.0 in c:\\users\\jorgem\\appdata\\roaming\\python\\python311\\site-packages (from qiskit) (2.9.0.post0)\n",
      "Requirement already satisfied: stevedore>=3.0.0 in c:\\python311\\lib\\site-packages (from qiskit) (5.3.0)\n",
      "Requirement already satisfied: typing-extensions in c:\\users\\jorgem\\appdata\\roaming\\python\\python311\\site-packages (from qiskit) (4.12.2)\n",
      "Requirement already satisfied: symengine>=0.11 in c:\\python311\\lib\\site-packages (from qiskit) (0.11.0)\n",
      "Requirement already satisfied: six>=1.5 in c:\\users\\jorgem\\appdata\\roaming\\python\\python311\\site-packages (from python-dateutil>=2.8.0->qiskit) (1.16.0)\n",
      "Requirement already satisfied: pbr>=2.0.0 in c:\\python311\\lib\\site-packages (from stevedore>=3.0.0->qiskit) (6.1.0)\n",
      "Requirement already satisfied: mpmath<1.4,>=1.1.0 in c:\\python311\\lib\\site-packages (from sympy>=1.3->qiskit) (1.3.0)\n",
      "Requirement already satisfied: qiskit-aer in c:\\python311\\lib\\site-packages (0.15.0)\n",
      "Requirement already satisfied: qiskit>=1.1.0 in c:\\python311\\lib\\site-packages (from qiskit-aer) (1.2.0)\n",
      "Requirement already satisfied: numpy>=1.16.3 in c:\\python311\\lib\\site-packages (from qiskit-aer) (2.1.0)\n",
      "Requirement already satisfied: scipy>=1.0 in c:\\python311\\lib\\site-packages (from qiskit-aer) (1.14.1)\n",
      "Requirement already satisfied: psutil>=5 in c:\\users\\jorgem\\appdata\\roaming\\python\\python311\\site-packages (from qiskit-aer) (6.0.0)\n",
      "Requirement already satisfied: rustworkx>=0.15.0 in c:\\python311\\lib\\site-packages (from qiskit>=1.1.0->qiskit-aer) (0.15.1)\n",
      "Requirement already satisfied: sympy>=1.3 in c:\\python311\\lib\\site-packages (from qiskit>=1.1.0->qiskit-aer) (1.13.2)\n",
      "Requirement already satisfied: dill>=0.3 in c:\\python311\\lib\\site-packages (from qiskit>=1.1.0->qiskit-aer) (0.3.8)\n",
      "Requirement already satisfied: python-dateutil>=2.8.0 in c:\\users\\jorgem\\appdata\\roaming\\python\\python311\\site-packages (from qiskit>=1.1.0->qiskit-aer) (2.9.0.post0)\n",
      "Requirement already satisfied: stevedore>=3.0.0 in c:\\python311\\lib\\site-packages (from qiskit>=1.1.0->qiskit-aer) (5.3.0)\n",
      "Requirement already satisfied: typing-extensions in c:\\users\\jorgem\\appdata\\roaming\\python\\python311\\site-packages (from qiskit>=1.1.0->qiskit-aer) (4.12.2)\n",
      "Requirement already satisfied: symengine>=0.11 in c:\\python311\\lib\\site-packages (from qiskit>=1.1.0->qiskit-aer) (0.11.0)\n",
      "Requirement already satisfied: six>=1.5 in c:\\users\\jorgem\\appdata\\roaming\\python\\python311\\site-packages (from python-dateutil>=2.8.0->qiskit>=1.1.0->qiskit-aer) (1.16.0)\n",
      "Requirement already satisfied: pbr>=2.0.0 in c:\\python311\\lib\\site-packages (from stevedore>=3.0.0->qiskit>=1.1.0->qiskit-aer) (6.1.0)\n",
      "Requirement already satisfied: mpmath<1.4,>=1.1.0 in c:\\python311\\lib\\site-packages (from sympy>=1.3->qiskit>=1.1.0->qiskit-aer) (1.3.0)\n"
     ]
    },
    {
     "name": "stderr",
     "output_type": "stream",
     "text": [
      "\n",
      "[notice] A new release of pip is available: 23.1.2 -> 24.2\n",
      "[notice] To update, run: python.exe -m pip install --upgrade pip\n"
     ]
    }
   ],
   "source": [
    "import sys\n",
    "!{sys.executable} -m pip install qiskit\n",
    "!{sys.executable} -m pip install qiskit-aer"
   ]
  },
  {
   "cell_type": "markdown",
   "metadata": {},
   "source": [
    "# Grover's Algorithm Steps\n",
    "\n",
    "1. Initialize the Quantum State\n",
    "   - Apply a Hadamard transform to all qubits to create an equal superposition over all possible states (this represents an equal probability of the system being in any one of the $N = 2^n$ possible states).\n",
    "   - The state after this step is $$\n",
    "    ∣ψ⟩ = -{1 \\over \\sqrt{N}} \\sum_{x=0}^{N-1} \\ket x $$\n",
    "\n",
    "\n",
    "2. Oracle Query\n",
    "   -   if the state is $\\ket{x_0}$, the oracle applies the transformation: $$\n",
    "\\mathcal{O} \\, f \\, |x\\rangle = \\begin{cases} \n",
    " -|x\\rangle & \\text{if } x = x_0 \\\\\n",
    "|x\\rangle & \\text{otherwise}\n",
    "\\end{cases} $$\n",
    "  \n",
    "\n",
    "3. Grover Diffusion Operator (Amplitude Amplification)\n",
    "   -   This is the key step that amplifies the amplitude of the correct solution. After the oracle marks the correct state, the diffusion operator increases the probability amplitude of that marked state while reducing the amplitudes of the others. This operation is also called the inversion about the mean.\n",
    "   -   Mathematically, it reflects all amplitudes about their average value.\n",
    "  \n",
    "4. Repeat Oracle and Diffusion Steps:\n",
    "   - These two steps (oracle and diffusion) are repeated $ \\mathcal{O}(\\sqrt{N})$ times to sufficiently amplify the probability of the correct state, so that when the system is measured, the correct state is found with high probability.\n",
    "\n",
    "5. Measure the Quantum State:\n",
    "   -   After repeating the oracle and diffusion steps the appropriate number of times, measure the state of the qubits. With high probability, the measurement will give the correct solution $ x_{0}$.\n"
   ]
  },
  {
   "cell_type": "markdown",
   "metadata": {},
   "source": [
    "## Example\n",
    "\n",
    "For sake of simplicity, this example will only have 2 qubits\n",
    "\n",
    "We will try to search the element $\\ket{11}$ in this example\n",
    "\n",
    "For this, we can use a CZ (Controlled Z) gate. This gate only flips the phase whenever the \"input\" is $\\ket{11}$, thus making it the oracle for this test case"
   ]
  },
  {
   "cell_type": "markdown",
   "metadata": {},
   "source": [
    "## Implementation"
   ]
  },
  {
   "cell_type": "markdown",
   "metadata": {},
   "source": [
    "Imports"
   ]
  },
  {
   "cell_type": "code",
   "execution_count": 1,
   "metadata": {},
   "outputs": [],
   "source": [
    "from qiskit import *\n",
    "from qiskit_aer import *\n",
    "import matplotlib.pyplot as plt\n",
    "import numpy as np"
   ]
  },
  {
   "cell_type": "markdown",
   "metadata": {},
   "source": [
    "Defining the Auxiliary Circuit. This is only a circuit to define the Oracle.\n",
    "Like said above, the oracle will only consist of the CZ gate, since it only flips the phase on the $\\ket{11}$ state. Therefore, this circuit will only consist of this gate.\n",
    "In essence, this is how to create a new gate, not necessarily the oracle.\n",
    "\n",
    "This is not required, it's only to show how to create a new gate"
   ]
  },
  {
   "cell_type": "code",
   "execution_count": 3,
   "metadata": {},
   "outputs": [
    {
     "data": {
      "image/png": "[encoded data removed]",
      "text/plain": [
       "<Figure size 203.683x200.667 with 1 Axes>"
      ]
     },
     "execution_count": 3,
     "metadata": {},
     "output_type": "execute_result"
    }
   ],
   "source": [
    "#define the oracle circuit\n",
    "oracle = QuantumCircuit(2, name='oracle')\n",
    "oracle.cz(0,1)\n",
    "oracle.to_gate()\n",
    "oracle.draw(output=\"mpl\")"
   ]
  },
  {
   "cell_type": "markdown",
   "metadata": {},
   "source": [
    "Creating the main Circuit\n"
   ]
  },
  {
   "cell_type": "code",
   "execution_count": 4,
   "metadata": {},
   "outputs": [
    {
     "data": {
      "image/png": "[encoded data removed]",
      "text/plain": [
       "<Figure size 370.906x284.278 with 1 Axes>"
      ]
     },
     "execution_count": 4,
     "metadata": {},
     "output_type": "execute_result"
    }
   ],
   "source": [
    "circuit = QuantumCircuit(2,2)\n",
    "circuit.h([0,1])\n",
    "circuit.append(oracle, [0,1]) #add the created gate (circuit) to the main circuit and applying it to the qubits\n",
    "circuit.draw(output=\"mpl\")"
   ]
  },
  {
   "cell_type": "code",
   "execution_count": 10,
   "metadata": {},
   "outputs": [
    {
     "data": {
      "text/html": [
       "<pre style=\"word-wrap: normal;white-space: pre;background: #fff0;line-height: 1.1;font-family: &quot;Courier New&quot;,Courier,monospace\">     ┌───┐┌─────────┐\n",
       "q_0: ┤ H ├┤0        ├\n",
       "     ├───┤│  oracle │\n",
       "q_1: ┤ H ├┤1        ├\n",
       "     └───┘└─────────┘\n",
       "c: 2/════════════════\n",
       "                     </pre>"
      ],
      "text/plain": [
       "     ┌───┐┌─────────┐\n",
       "q_0: ┤ H ├┤0        ├\n",
       "     ├───┤│  oracle │\n",
       "q_1: ┤ H ├┤1        ├\n",
       "     └───┘└─────────┘\n",
       "c: 2/════════════════\n",
       "                     "
      ]
     },
     "execution_count": 10,
     "metadata": {},
     "output_type": "execute_result"
    }
   ],
   "source": [
    "backend = Aer.get_backend('statevector_simulator')\n",
    "grover_circ = QuantumCircuit(2,2)\n",
    "grover_circ.h([0,1])\n",
    "grover_circ.append(oracle,[0,1])\n",
    "grover_circ.draw()"
   ]
  },
  {
   "cell_type": "code",
   "execution_count": 11,
   "metadata": {},
   "outputs": [
    {
     "ename": "NameError",
     "evalue": "name 'execute' is not defined",
     "output_type": "error",
     "traceback": [
      "\u001b[1;31m---------------------------------------------------------------------------\u001b[0m",
      "\u001b[1;31mNameError\u001b[0m                                 Traceback (most recent call last)",
      "Cell \u001b[1;32mIn[11], line 1\u001b[0m\n\u001b[1;32m----> 1\u001b[0m job \u001b[38;5;241m=\u001b[39m \u001b[43mexecute\u001b[49m(grover_circ, backend)\n\u001b[0;32m      2\u001b[0m result \u001b[38;5;241m=\u001b[39m  job\u001b[38;5;241m.\u001b[39mresult()\n",
      "\u001b[1;31mNameError\u001b[0m: name 'execute' is not defined"
     ]
    }
   ],
   "source": [
    "job = execute(grover_circ, backend)\n",
    "result =  job.result()"
   ]
  }
 ],
 "metadata": {
  "kernelspec": {
   "display_name": "Python 3",
   "language": "python",
   "name": "python3"
  },
  "language_info": {
   "codemirror_mode": {
    "name": "ipython",
    "version": 3
   },
   "file_extension": ".py",
   "mimetype": "text/x-python",
   "name": "python",
   "nbconvert_exporter": "python",
   "pygments_lexer": "ipython3",
   "version": "3.11.4"
  }
 },
 "nbformat": 4,
 "nbformat_minor": 2
}

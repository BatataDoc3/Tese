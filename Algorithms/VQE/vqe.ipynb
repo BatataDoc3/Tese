{
 "cells": [
  {
   "cell_type": "markdown",
   "id": "617eaa59",
   "metadata": {},
   "source": [
    "# VQE\n",
    "https://dojo.qulacs.org/en/latest/notebooks/5.1_variational_quantum_eigensolver.html\n",
    "## Overview\n",
    "\n",
    "In short, this algorithm is used to find the *lowest energy* of a quantum system.\n",
    "This is useful to solve problems like finding the value of the ground energy of matter, which can be applied to molecules, for example.\n",
    "\n",
    "It is believed that the properties of molecules and matter are mostly determined by the motion of electrons in them. Therefore, by solving the Schrodinger equation, which is the equation governing electrons.\n",
    "\n",
    "\\begin{equation}\n",
    "H \\ket{\\psi} = E \\ket{\\psi}\n",
    "\\end{equation}\n",
    "\n",
    "the properties of molecules and matter can be revealed by calculation. Here $H$ is an operator (matrix) called the Hamiltonian, which is determined by the details of the system, such as the shape of the molecules. As can be seen from the form $H|ψ⟩=E|ψ⟩$, solving the Schrodinger equation is equivalent to solving the eigenvalue problem for the Hamiltonian $H$ and finding the eigenvalues $E_{i}$ and the corresponding eigenvectors (also called eigenstates) $|ϕ_{i}⟩$. The eigenvalue $E_{i}$ is the energy of the eigenstate $|ϕ_{i}⟩$.\n",
    "\n",
    "Unless we consider extreme environments, electrons are usually in the lowest energy state, i.e., the ground state. Therefore, among the eigenstates, the ground state is of particular interest.\n",
    "\n",
    "The variational method is a powerful method for finding the ground state of a Hamiltonian of very large dimension. The variational method uses the fact that for any given state |ψ⟩, its energy expectation value will always be higher than the ground energy E_{0}, i.e.,\n",
    "\n",
    "\\begin{equation}\n",
    "\\bra{\\psi}H\\ket{\\psi} >= E_{0}\n",
    "\\end{equation}\n",
    "\n",
    "In fact, if we were to bring states at random, the probability of finding a state close to the ground state would be exponentially small in relation to the size of the system. Therefore, the usual approach is to construct a parameterized quantum state |ψ(θ)⟩ (where θ is a parameter) based on physical and chemical intuition and experience, and find the θ that minimizes\n",
    "\n",
    "\\begin{equation}\n",
    "\\bra{\\psi(θ)}H\\ket{\\psi(θ)} \n",
    "\\end{equation}\n",
    "\n",
    "\n",
    "## The algorithm\n",
    "\n",
    "The algorithm is as follows:\n",
    "\n",
    "1. Generate a quantum state $\\ket{\\psi(θ)}$ on a quantum computer.\n",
    "2. Measure $⟨H(θ)⟩=⟨ψ(θ)|H|ψ(θ)⟩$\n",
    "3. Based on the measurement results, determine the θ such that ⟨ψ(θ)|H|ψ(θ)⟩ becomes smaller using a classical computer.\n",
    "\n",
    "\n",
    "This is repeated until ⟨ψ(θ)|H|ψ(θ)⟩ converges to obtain an approximate ground state.\n",
    "\n",
    "\n"
   ]
  },
  {
   "cell_type": "markdown",
   "id": "cfd9fe00",
   "metadata": {},
   "source": [
    "## Example implementation\n",
    "\n",
    "We'll:\n",
    "1. Define a simple 2-qubit Hamiltonian (e.g., for H₂ in a toy example).\n",
    "2. Use a parameterized ansatz.\n",
    "3. Measure expectation value of energy.\n",
    "4. Use a classical optimizer to find the ground state energy.\n"
   ]
  },
  {
   "cell_type": "code",
   "execution_count": 7,
   "id": "959d9bdb",
   "metadata": {},
   "outputs": [
    {
     "name": "stdout",
     "output_type": "stream",
     "text": [
      "Requirement already satisfied: qiskit in c:\\users\\jorgem\\appdata\\local\\packages\\pythonsoftwarefoundation.python.3.11_qbz5n2kfra8p0\\localcache\\local-packages\\python311\\site-packages (1.4.0)\n",
      "Requirement already satisfied: rustworkx>=0.15.0 in c:\\users\\jorgem\\appdata\\local\\packages\\pythonsoftwarefoundation.python.3.11_qbz5n2kfra8p0\\localcache\\local-packages\\python311\\site-packages (from qiskit) (0.16.0)\n",
      "Requirement already satisfied: numpy<3,>=1.17 in c:\\users\\jorgem\\appdata\\local\\packages\\pythonsoftwarefoundation.python.3.11_qbz5n2kfra8p0\\localcache\\local-packages\\python311\\site-packages (from qiskit) (2.2.3)\n",
      "Requirement already satisfied: scipy>=1.5 in c:\\users\\jorgem\\appdata\\local\\packages\\pythonsoftwarefoundation.python.3.11_qbz5n2kfra8p0\\localcache\\local-packages\\python311\\site-packages (from qiskit) (1.15.2)\n",
      "Requirement already satisfied: sympy>=1.3 in c:\\users\\jorgem\\appdata\\local\\packages\\pythonsoftwarefoundation.python.3.11_qbz5n2kfra8p0\\localcache\\local-packages\\python311\\site-packages (from qiskit) (1.13.3)\n",
      "Requirement already satisfied: dill>=0.3 in c:\\users\\jorgem\\appdata\\local\\packages\\pythonsoftwarefoundation.python.3.11_qbz5n2kfra8p0\\localcache\\local-packages\\python311\\site-packages (from qiskit) (0.3.9)\n",
      "Requirement already satisfied: python-dateutil>=2.8.0 in c:\\users\\jorgem\\appdata\\local\\packages\\pythonsoftwarefoundation.python.3.11_qbz5n2kfra8p0\\localcache\\local-packages\\python311\\site-packages (from qiskit) (2.9.0.post0)\n",
      "Requirement already satisfied: stevedore>=3.0.0 in c:\\users\\jorgem\\appdata\\local\\packages\\pythonsoftwarefoundation.python.3.11_qbz5n2kfra8p0\\localcache\\local-packages\\python311\\site-packages (from qiskit) (5.4.1)\n",
      "Requirement already satisfied: typing-extensions in c:\\users\\jorgem\\appdata\\local\\packages\\pythonsoftwarefoundation.python.3.11_qbz5n2kfra8p0\\localcache\\local-packages\\python311\\site-packages (from qiskit) (4.12.2)\n",
      "Requirement already satisfied: symengine<0.14,>=0.11 in c:\\users\\jorgem\\appdata\\local\\packages\\pythonsoftwarefoundation.python.3.11_qbz5n2kfra8p0\\localcache\\local-packages\\python311\\site-packages (from qiskit) (0.13.0)\n",
      "Requirement already satisfied: six>=1.5 in c:\\users\\jorgem\\appdata\\local\\packages\\pythonsoftwarefoundation.python.3.11_qbz5n2kfra8p0\\localcache\\local-packages\\python311\\site-packages (from python-dateutil>=2.8.0->qiskit) (1.17.0)\n",
      "Requirement already satisfied: pbr>=2.0.0 in c:\\users\\jorgem\\appdata\\local\\packages\\pythonsoftwarefoundation.python.3.11_qbz5n2kfra8p0\\localcache\\local-packages\\python311\\site-packages (from stevedore>=3.0.0->qiskit) (6.1.1)\n",
      "Requirement already satisfied: mpmath<1.4,>=1.1.0 in c:\\users\\jorgem\\appdata\\local\\packages\\pythonsoftwarefoundation.python.3.11_qbz5n2kfra8p0\\localcache\\local-packages\\python311\\site-packages (from sympy>=1.3->qiskit) (1.3.0)\n",
      "Requirement already satisfied: setuptools in c:\\program files\\windowsapps\\pythonsoftwarefoundation.python.3.11_3.11.2544.0_x64__qbz5n2kfra8p0\\lib\\site-packages (from pbr>=2.0.0->stevedore>=3.0.0->qiskit) (65.5.0)\n"
     ]
    },
    {
     "name": "stderr",
     "output_type": "stream",
     "text": [
      "\n",
      "[notice] A new release of pip is available: 24.0 -> 25.0.1\n",
      "[notice] To update, run: C:\\Users\\jorgem\\AppData\\Local\\Microsoft\\WindowsApps\\PythonSoftwareFoundation.Python.3.11_qbz5n2kfra8p0\\python.exe -m pip install --upgrade pip\n"
     ]
    },
    {
     "name": "stdout",
     "output_type": "stream",
     "text": [
      "Requirement already satisfied: qiskit-aer in c:\\users\\jorgem\\appdata\\local\\packages\\pythonsoftwarefoundation.python.3.11_qbz5n2kfra8p0\\localcache\\local-packages\\python311\\site-packages (0.17.0)\n",
      "Requirement already satisfied: qiskit>=1.1.0 in c:\\users\\jorgem\\appdata\\local\\packages\\pythonsoftwarefoundation.python.3.11_qbz5n2kfra8p0\\localcache\\local-packages\\python311\\site-packages (from qiskit-aer) (1.4.0)\n",
      "Requirement already satisfied: numpy>=1.16.3 in c:\\users\\jorgem\\appdata\\local\\packages\\pythonsoftwarefoundation.python.3.11_qbz5n2kfra8p0\\localcache\\local-packages\\python311\\site-packages (from qiskit-aer) (2.2.3)\n",
      "Requirement already satisfied: scipy>=1.0 in c:\\users\\jorgem\\appdata\\local\\packages\\pythonsoftwarefoundation.python.3.11_qbz5n2kfra8p0\\localcache\\local-packages\\python311\\site-packages (from qiskit-aer) (1.15.2)\n",
      "Requirement already satisfied: psutil>=5 in c:\\users\\jorgem\\appdata\\local\\packages\\pythonsoftwarefoundation.python.3.11_qbz5n2kfra8p0\\localcache\\local-packages\\python311\\site-packages (from qiskit-aer) (7.0.0)\n",
      "Requirement already satisfied: rustworkx>=0.15.0 in c:\\users\\jorgem\\appdata\\local\\packages\\pythonsoftwarefoundation.python.3.11_qbz5n2kfra8p0\\localcache\\local-packages\\python311\\site-packages (from qiskit>=1.1.0->qiskit-aer) (0.16.0)\n",
      "Requirement already satisfied: sympy>=1.3 in c:\\users\\jorgem\\appdata\\local\\packages\\pythonsoftwarefoundation.python.3.11_qbz5n2kfra8p0\\localcache\\local-packages\\python311\\site-packages (from qiskit>=1.1.0->qiskit-aer) (1.13.3)\n",
      "Requirement already satisfied: dill>=0.3 in c:\\users\\jorgem\\appdata\\local\\packages\\pythonsoftwarefoundation.python.3.11_qbz5n2kfra8p0\\localcache\\local-packages\\python311\\site-packages (from qiskit>=1.1.0->qiskit-aer) (0.3.9)\n",
      "Requirement already satisfied: python-dateutil>=2.8.0 in c:\\users\\jorgem\\appdata\\local\\packages\\pythonsoftwarefoundation.python.3.11_qbz5n2kfra8p0\\localcache\\local-packages\\python311\\site-packages (from qiskit>=1.1.0->qiskit-aer) (2.9.0.post0)\n",
      "Requirement already satisfied: stevedore>=3.0.0 in c:\\users\\jorgem\\appdata\\local\\packages\\pythonsoftwarefoundation.python.3.11_qbz5n2kfra8p0\\localcache\\local-packages\\python311\\site-packages (from qiskit>=1.1.0->qiskit-aer) (5.4.1)\n",
      "Requirement already satisfied: typing-extensions in c:\\users\\jorgem\\appdata\\local\\packages\\pythonsoftwarefoundation.python.3.11_qbz5n2kfra8p0\\localcache\\local-packages\\python311\\site-packages (from qiskit>=1.1.0->qiskit-aer) (4.12.2)\n",
      "Requirement already satisfied: symengine<0.14,>=0.11 in c:\\users\\jorgem\\appdata\\local\\packages\\pythonsoftwarefoundation.python.3.11_qbz5n2kfra8p0\\localcache\\local-packages\\python311\\site-packages (from qiskit>=1.1.0->qiskit-aer) (0.13.0)\n",
      "Requirement already satisfied: six>=1.5 in c:\\users\\jorgem\\appdata\\local\\packages\\pythonsoftwarefoundation.python.3.11_qbz5n2kfra8p0\\localcache\\local-packages\\python311\\site-packages (from python-dateutil>=2.8.0->qiskit>=1.1.0->qiskit-aer) (1.17.0)\n",
      "Requirement already satisfied: pbr>=2.0.0 in c:\\users\\jorgem\\appdata\\local\\packages\\pythonsoftwarefoundation.python.3.11_qbz5n2kfra8p0\\localcache\\local-packages\\python311\\site-packages (from stevedore>=3.0.0->qiskit>=1.1.0->qiskit-aer) (6.1.1)\n",
      "Requirement already satisfied: mpmath<1.4,>=1.1.0 in c:\\users\\jorgem\\appdata\\local\\packages\\pythonsoftwarefoundation.python.3.11_qbz5n2kfra8p0\\localcache\\local-packages\\python311\\site-packages (from sympy>=1.3->qiskit>=1.1.0->qiskit-aer) (1.3.0)\n",
      "Requirement already satisfied: setuptools in c:\\program files\\windowsapps\\pythonsoftwarefoundation.python.3.11_3.11.2544.0_x64__qbz5n2kfra8p0\\lib\\site-packages (from pbr>=2.0.0->stevedore>=3.0.0->qiskit>=1.1.0->qiskit-aer) (65.5.0)\n"
     ]
    },
    {
     "name": "stderr",
     "output_type": "stream",
     "text": [
      "\n",
      "[notice] A new release of pip is available: 24.0 -> 25.0.1\n",
      "[notice] To update, run: C:\\Users\\jorgem\\AppData\\Local\\Microsoft\\WindowsApps\\PythonSoftwareFoundation.Python.3.11_qbz5n2kfra8p0\\python.exe -m pip install --upgrade pip\n"
     ]
    }
   ],
   "source": [
    "import sys\n",
    "!{sys.executable} -m pip install qiskit\n",
    "!{sys.executable} -m pip install qiskit-aer"
   ]
  },
  {
   "cell_type": "markdown",
   "id": "4e9110af",
   "metadata": {},
   "source": [
    "### 1.Imports"
   ]
  },
  {
   "cell_type": "code",
   "execution_count": 28,
   "id": "22202216",
   "metadata": {},
   "outputs": [],
   "source": [
    "import numpy as np\n",
    "from qiskit import QuantumCircuit\n",
    "from qiskit.quantum_info import SparsePauliOp\n",
    "from qiskit.primitives import Estimator\n",
    "from scipy.optimize import minimize\n",
    "from qiskit.quantum_info import Statevector\n",
    "\n"
   ]
  },
  {
   "cell_type": "code",
   "execution_count": 37,
   "id": "42a687c4",
   "metadata": {},
   "outputs": [],
   "source": [
    "coeffs = [-1.0523732, 0.3979374, -0.3979374, -0.0112801, 0.1809312]\n",
    "paulis = [\"II\", \"ZI\", \"IZ\", \"ZZ\", \"XX\"]\n",
    "hamiltonian = SparsePauliOp.from_list(list(zip(paulis, coeffs)))"
   ]
  },
  {
   "cell_type": "code",
   "execution_count": 38,
   "id": "2eb43184",
   "metadata": {},
   "outputs": [],
   "source": [
    "def ansatz(theta):\n",
    "    qc = QuantumCircuit(2)\n",
    "    qc.ry(theta[0], 0)\n",
    "    qc.ry(theta[1], 1)\n",
    "    qc.cx(0, 1)\n",
    "    return qc"
   ]
  },
  {
   "cell_type": "code",
   "execution_count": 39,
   "id": "fcde2105",
   "metadata": {},
   "outputs": [],
   "source": [
    "def energy(theta):\n",
    "    qc = ansatz(theta)\n",
    "    state = Statevector.from_instruction(qc)\n",
    "    return np.real(state.expectation_value(hamiltonian))"
   ]
  },
  {
   "cell_type": "code",
   "execution_count": 40,
   "id": "ced6e0ad",
   "metadata": {},
   "outputs": [],
   "source": [
    "theta = np.random.rand(2)\n",
    "learning_rate = 0.2\n",
    "steps = 100\n",
    "delta = 1e-4"
   ]
  },
  {
   "cell_type": "code",
   "execution_count": null,
   "id": "d589c8fe",
   "metadata": {},
   "outputs": [
    {
     "name": "stdout",
     "output_type": "stream",
     "text": [
      "Step 0: θ = [0.68108015 0.96754275], Energy = -1.07861613\n",
      "Step 1: θ = [0.63128558 1.01660236], Energy = -1.10371305\n",
      "Step 2: θ = [0.57982132 1.06931615], Energy = -1.13153456\n",
      "Step 3: θ = [0.52690685 1.12571982], Energy = -1.16212426\n",
      "Step 4: θ = [0.47283749 1.1857744 ], Energy = -1.19542806\n",
      "Step 5: θ = [0.41798932 1.24935137], Energy = -1.23127094\n",
      "Step 6: θ = [0.36281885 1.31622093], Energy = -1.26934074\n",
      "Step 7: θ = [0.3078553  1.38604587], Energy = -1.30918428\n",
      "Step 8: θ = [0.25368428 1.45838324], Energy = -1.35022054\n",
      "Step 9: θ = [0.20092261 1.53269543], Energy = -1.39177269\n",
      "Step 10: θ = [0.15018581 1.60837086], Energy = -1.43311665\n",
      "Step 11: θ = [0.10205155 1.68475248], Energy = -1.47353921\n",
      "Step 12: θ = [0.05702369 1.76117098], Energy = -1.51239554\n",
      "Step 13: θ = [0.01550204 1.8369783 ], Energy = -1.54915564\n",
      "Step 14: θ = [-0.0222381   1.91157709], Energy = -1.58343234\n",
      "Step 15: θ = [-0.05605418  1.98444298], Energy = -1.61498833\n",
      "Step 16: θ = [-0.08593246  2.05513793], Energy = -1.64372488\n",
      "Step 17: θ = [-0.11197387  2.12331497], Energy = -1.66965825\n",
      "Step 18: θ = [-0.134373    2.18871566], Energy = -1.69289060\n",
      "Step 19: θ = [-0.15339371  2.25116265], Energy = -1.71358128\n",
      "Step 20: θ = [-0.16934482  2.31054924], Energy = -1.73192234\n",
      "Step 21: θ = [-0.18255798  2.36682807], Energy = -1.74811959\n",
      "Step 22: θ = [-0.19336926  2.41999994], Energy = -1.76237956\n",
      "Step 23: θ = [-0.20210496  2.4701038 ], Energy = -1.77490118\n",
      "Step 24: θ = [-0.20907157  2.51720791], Energy = -1.78587117\n",
      "Step 25: θ = [-0.21454944  2.56140258], Energy = -1.79546181\n",
      "Step 26: θ = [-0.21878939  2.60279407], Energy = -1.80383035\n",
      "Step 27: θ = [-0.22201169  2.64149973], Energy = -1.81111923\n",
      "Step 28: θ = [-0.22440677  2.67764407], Energy = -1.81745680\n",
      "Step 29: θ = [-0.22613692  2.71135559], Energy = -1.82295822\n",
      "Step 30: θ = [-0.22733876  2.74276433], Energy = -1.82772647\n",
      "Step 31: θ = [-0.228126   2.7719999], Energy = -1.83185331\n",
      "Step 32: θ = [-0.2285923   2.79918993], Energy = -1.83542023\n",
      "Step 33: θ = [-0.22881402  2.82445894], Energy = -1.83849941\n",
      "Step 34: θ = [-0.22885283  2.84792745], Energy = -1.84115454\n",
      "Step 35: θ = [-0.22875806  2.86971136], Energy = -1.84344168\n",
      "Step 36: θ = [-0.22856874  2.88992148], Energy = -1.84541002\n",
      "Step 37: θ = [-0.22831548  2.90866332], Energy = -1.84710259\n",
      "Step 38: θ = [-0.22802193  2.92603689], Energy = -1.84855696\n",
      "Step 39: θ = [-0.22770618  2.94213671], Energy = -1.84980583\n",
      "Step 40: θ = [-0.22738181  2.95705181], Energy = -1.85087762\n",
      "Step 41: θ = [-0.22705883  2.97086586], Energy = -1.85179697\n",
      "Step 42: θ = [-0.22674442  2.9836573 ], Energy = -1.85258522\n",
      "Step 43: θ = [-0.22644353  2.99549955], Energy = -1.85326080\n",
      "Step 44: θ = [-0.22615943  3.00646123], Energy = -1.85383961\n",
      "Step 45: θ = [-0.22589405  3.01660632], Energy = -1.85433537\n",
      "Step 46: θ = [-0.22564835  3.02599449], Energy = -1.85475989\n",
      "Step 47: θ = [-0.22542255  3.03468126], Energy = -1.85512332\n",
      "Step 48: θ = [-0.22521633  3.04271827], Energy = -1.85543440\n",
      "Step 49: θ = [-0.22502901  3.05015351], Energy = -1.85570063\n",
      "Step 50: θ = [-0.22485965  3.05703156], Energy = -1.85592843\n",
      "Step 51: θ = [-0.22470716  3.06339378], Energy = -1.85612334\n",
      "Step 52: θ = [-0.22457034  3.06927854], Energy = -1.85629008\n",
      "Step 53: θ = [-0.22444798  3.07472143], Energy = -1.85643271\n",
      "Step 54: θ = [-0.22433887  3.07975544], Energy = -1.85655471\n",
      "Step 55: θ = [-0.22424182  3.0844111 ], Energy = -1.85665906\n",
      "Step 56: θ = [-0.22415569  3.08871675], Energy = -1.85674830\n",
      "Step 57: θ = [-0.22407943  3.09269858], Energy = -1.85682462\n",
      "Step 58: θ = [-0.22401202  3.09638088], Energy = -1.85688989\n",
      "Step 59: θ = [-0.22395255  3.0997861 ], Energy = -1.85694570\n",
      "Step 60: θ = [-0.22390016  3.10293505], Energy = -1.85699343\n",
      "Step 61: θ = [-0.22385408  3.10584698], Energy = -1.85703424\n",
      "Step 62: θ = [-0.22381361  3.10853969], Energy = -1.85706914\n",
      "Step 63: θ = [-0.22377811  3.11102966], Energy = -1.85709898\n",
      "Step 64: θ = [-0.223747    3.11333213], Energy = -1.85712449\n",
      "Step 65: θ = [-0.22371978  3.11546121], Energy = -1.85714630\n",
      "Step 66: θ = [-0.22369597  3.11742994], Energy = -1.85716496\n",
      "Step 67: θ = [-0.22367518  3.11925038], Energy = -1.85718091\n",
      "Step 68: θ = [-0.22365703  3.12093371], Energy = -1.85719454\n",
      "Step 69: θ = [-0.2236412   3.12249023], Energy = -1.85720620\n",
      "Step 70: θ = [-0.22362742  3.1239295 ], Energy = -1.85721617\n",
      "Step 71: θ = [-0.22361541  3.12526035], Energy = -1.85722469\n",
      "Step 72: θ = [-0.22360497  3.12649093], Energy = -1.85723198\n",
      "Step 73: θ = [-0.22359589  3.1276288 ], Energy = -1.85723821\n",
      "Step 74: θ = [-0.223588    3.12868095], Energy = -1.85724354\n",
      "Step 75: θ = [-0.22358115  3.12965382], Energy = -1.85724809\n",
      "Step 76: θ = [-0.2235752  3.1305534], Energy = -1.85725198\n",
      "Step 77: θ = [-0.22357004  3.1313852 ], Energy = -1.85725531\n",
      "Step 78: θ = [-0.22356557  3.13215432], Energy = -1.85725816\n",
      "Step 79: θ = [-0.22356169  3.1328655 ], Energy = -1.85726059\n",
      "Step 80: θ = [-0.22355834  3.13352309], Energy = -1.85726267\n",
      "Step 81: θ = [-0.22355543  3.13413113], Energy = -1.85726445\n",
      "Step 82: θ = [-0.22355291  3.13469336], Energy = -1.85726597\n",
      "Step 83: θ = [-0.22355074  3.13521322], Energy = -1.85726727\n",
      "Step 84: θ = [-0.22354886  3.13569392], Energy = -1.85726839\n",
      "Step 85: θ = [-0.22354723  3.13613839], Energy = -1.85726934\n",
      "Step 86: θ = [-0.22354582  3.13654937], Energy = -1.85727015\n",
      "Step 87: θ = [-0.22354461  3.13692939], Energy = -1.85727084\n",
      "Step 88: θ = [-0.22354356  3.13728077], Energy = -1.85727144\n",
      "Step 89: θ = [-0.22354266  3.13760567], Energy = -1.85727195\n",
      "Step 90: θ = [-0.22354188  3.1379061 ], Energy = -1.85727238\n",
      "Step 91: θ = [-0.2235412   3.13818388], Energy = -1.85727275\n",
      "Step 92: θ = [-0.22354062  3.13844074], Energy = -1.85727307\n",
      "Step 93: θ = [-0.22354012  3.13867824], Energy = -1.85727334\n",
      "Step 94: θ = [-0.22353969  3.13889784], Energy = -1.85727357\n",
      "Step 95: θ = [-0.22353931  3.1391009 ], Energy = -1.85727377\n",
      "Step 96: θ = [-0.22353899  3.13928866], Energy = -1.85727394\n",
      "Step 97: θ = [-0.22353872  3.13946226], Energy = -1.85727409\n",
      "Step 98: θ = [-0.22353848  3.13962279], Energy = -1.85727421\n",
      "Step 99: θ = [-0.22353827  3.13977122], Energy = -1.85727432\n"
     ]
    }
   ],
   "source": [
    "for step in range(steps):\n",
    "    e = energy(theta)\n",
    "    print(f\"Step {step}: θ = {theta}, Energy = {e:.8f}\")\n",
    "    ansatz(theta).draw('mpl')\n",
    "\n",
    "    # Finite difference gradient\n",
    "    grad = np.zeros_like(theta)\n",
    "    for i in range(len(theta)):\n",
    "        plus = theta.copy(); plus[i] += delta\n",
    "        minus = theta.copy(); minus[i] -= delta\n",
    "        grad[i] = (energy(plus) - energy(minus)) / (2 * delta)\n",
    "    \n",
    "    theta -= learning_rate * grad"
   ]
  },
  {
   "cell_type": "code",
   "execution_count": 42,
   "id": "670fa44e",
   "metadata": {},
   "outputs": [
    {
     "name": "stdout",
     "output_type": "stream",
     "text": [
      "\n",
      "Final θ: [-0.2235381   3.13990847]\n",
      "Final estimated ground state energy: -1.8572744059532635\n"
     ]
    }
   ],
   "source": [
    "print(\"\\nFinal θ:\", theta)\n",
    "print(\"Final estimated ground state energy:\", energy(theta))"
   ]
  }
 ],
 "metadata": {
  "kernelspec": {
   "display_name": "Python 3",
   "language": "python",
   "name": "python3"
  },
  "language_info": {
   "codemirror_mode": {
    "name": "ipython",
    "version": 3
   },
   "file_extension": ".py",
   "mimetype": "text/x-python",
   "name": "python",
   "nbconvert_exporter": "python",
   "pygments_lexer": "ipython3",
   "version": "3.11.9"
  }
 },
 "nbformat": 4,
 "nbformat_minor": 5
}
